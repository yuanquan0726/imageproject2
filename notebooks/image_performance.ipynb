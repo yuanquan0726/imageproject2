{
 "cells": [
  {
   "cell_type": "code",
   "execution_count": null,
   "metadata": {},
   "outputs": [],
   "source": [
    "import time\n",
    "import matplotlib.pyplot as plt\n",
    "import tensorflow as tf\n",
    "from tensorflow.keras.preprocessing.image import ImageDataGenerator\n",
    "from tensorflow.keras.models import load_model\n",
    "from tensorflow.keras.applications import ResNet50, VGG16\n",
    "\n",
    "\n",
    "from tensorflow.keras.models import load_model\n",
    "\n",
    "# Load the trained model from the saved file\n",
    "model = load_model('resnet_image_classifier_model.h5')\n"
   ]
  },
  {
   "cell_type": "code",
   "execution_count": null,
   "metadata": {},
   "outputs": [],
   "source": [
    "# Create data generators for test data (use the same preprocessing as for training)\n",
    "test_datagen = ImageDataGenerator(rescale=1./255)  # Only rescale for testing\n",
    "\n",
    "test_dir = 'data/processed/images/test'  # Path to your test images\n",
    "\n",
    "test_generator = test_datagen.flow_from_directory(\n",
    "    test_dir,\n",
    "    target_size=(224, 224),  # Resize images to 224x224\n",
    "    batch_size=32,\n",
    "    class_mode='categorical'  # Multi-class classification\n",
    ")\n",
    "\n",
    "# Evaluate both models\n",
    "resnet_loss, resnet_acc = resnet_model.evaluate(test_generator)\n",
    "\n",
    "print(f\"ResNet Accuracy: {resnet_acc}, Loss: {resnet_loss}\")\n"
   ]
  }
 ],
 "metadata": {
  "language_info": {
   "name": "python"
  }
 },
 "nbformat": 4,
 "nbformat_minor": 2
}
